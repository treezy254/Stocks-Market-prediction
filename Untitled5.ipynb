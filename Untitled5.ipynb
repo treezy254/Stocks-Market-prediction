{
  "nbformat": 4,
  "nbformat_minor": 0,
  "metadata": {
    "colab": {
      "provenance": [],
      "gpuType": "T4",
      "authorship_tag": "ABX9TyMROoQW1V0GxKfPE5mtt0l9",
      "include_colab_link": true
    },
    "kernelspec": {
      "name": "python3",
      "display_name": "Python 3"
    },
    "language_info": {
      "name": "python"
    },
    "accelerator": "GPU"
  },
  "cells": [
    {
      "cell_type": "markdown",
      "metadata": {
        "id": "view-in-github",
        "colab_type": "text"
      },
      "source": [
        "<a href=\"https://colab.research.google.com/github/treezy254/Stocks-Market-prediction/blob/master/Untitled5.ipynb\" target=\"_parent\"><img src=\"https://colab.research.google.com/assets/colab-badge.svg\" alt=\"Open In Colab\"/></a>"
      ]
    },
    {
      "cell_type": "code",
      "source": [
        "import numpy as np\n",
        "import pandas as pd\n",
        "from sklearn.preprocessing import MinMaxScaler\n",
        "from sklearn.model_selection import train_test_split\n",
        "from sklearn.neural_network import MLPClassifier\n",
        "from pyswarm import pso\n",
        "from tensorflow.keras.models import Sequential\n",
        "from tensorflow.keras.layers import LSTM, Dense\n",
        "\n",
        "import warnings\n",
        "warnings.filterwarnings('ignore')\n"
      ],
      "metadata": {
        "id": "IyRe4K41lIBI"
      },
      "execution_count": 10,
      "outputs": []
    },
    {
      "cell_type": "code",
      "execution_count": 11,
      "metadata": {
        "id": "qoNXN0YZk9hB"
      },
      "outputs": [],
      "source": [
        "import os\n",
        "os.environ['TF_CPP_MIN_LOG_LEVEL'] = '3'\n",
        "\n",
        "import tensorflow as tf\n",
        "tf.get_logger().setLevel('ERROR')"
      ]
    },
    {
      "cell_type": "code",
      "source": [
        "# Define the trading signal generation based on moving average\n",
        "def generate_trading_signal(data, window):\n",
        "    data['SMA'] = data['Close'].rolling(window=window).mean()\n",
        "    data['Signal'] = np.where(data['Close'] > data['SMA'], 1, -1)\n",
        "    return data['Signal']\n",
        "\n"
      ],
      "metadata": {
        "id": "bZPLepzglJxg"
      },
      "execution_count": 12,
      "outputs": []
    },
    {
      "cell_type": "code",
      "source": [
        "from sklearn.preprocessing import MinMaxScaler\n",
        "from sklearn.neural_network import MLPClassifier\n",
        "import numpy as np\n",
        "import matplotlib.pyplot as plt\n",
        "\n",
        "# Define the ANN model training and optimization using PSO\n",
        "def train_ann_with_pso(X_train, y_train):\n",
        "    scaler = MinMaxScaler()\n",
        "    X_train_scaled = scaler.fit_transform(X_train)\n",
        "\n",
        "    def objective_function(params):\n",
        "        hidden_units = int(params[0])\n",
        "        learning_rate = params[1]\n",
        "        max_iter = int(params[2])\n",
        "\n",
        "        model = Sequential()\n",
        "        model.add(LSTM(hidden_units, activation='tanh', input_shape=(X_train.shape[1], 1), return_sequences=True))\n",
        "        model.add(LSTM(hidden_units, activation='tanh'))\n",
        "        model.add(Dense(1, activation='sigmoid'))\n",
        "\n",
        "        optimizer = tf.keras.optimizers.Adam(learning_rate=learning_rate)\n",
        "        model.compile(loss='binary_crossentropy', optimizer=optimizer, metrics=['accuracy'])\n",
        "\n",
        "        model.fit(np.expand_dims(X_train_scaled, axis=2), y_train, epochs=max_iter, verbose=0)\n",
        "\n",
        "        _, accuracy = model.evaluate(np.expand_dims(X_train_scaled, axis=2), y_train, verbose=0)\n",
        "\n",
        "        return 1 - accuracy\n",
        "\n",
        "    lb = [1, 0.0001, 100]  # lower bounds for PSO parameters\n",
        "    ub = [100, 0.01, 1000]  # upper bounds for PSO parameters\n",
        "\n",
        "    # Perform PSO optimization\n",
        "    best_params, best_scores = pso(objective_function, lb, ub, swarmsize=10, maxiter=50)\n",
        "\n",
        "     # Plot the accuracy during each iteration\n",
        "    plt.plot(best_scores)\n",
        "    plt.xlabel('Iteration')\n",
        "    plt.ylabel('Accuracy')\n",
        "    plt.title('PSO Optimization')\n",
        "    plt.show()\n",
        "\n",
        "    hidden_units = int(best_params[0])\n",
        "    learning_rate = best_params[1]\n",
        "    max_iter = int(best_params[2])\n",
        "\n",
        "    # Train the ANN model with the best parameters\n",
        "    model = Sequential()\n",
        "    model.add(LSTM(hidden_units, activation='tanh', input_shape=(X_train.shape[1], 1), return_sequences=True))\n",
        "    model.add(LSTM(hidden_units, activation='tanh'))\n",
        "    model.add(Dense(1, activation='sigmoid'))\n",
        "\n",
        "    optimizer = tf.keras.optimizers.Adam(learning_rate=learning_rate)\n",
        "    model.compile(loss='binary_crossentropy', optimizer=optimizer, metrics=['accuracy'])\n",
        "\n",
        "    model.fit(np.expand_dims(X_train_scaled, axis=2), y_train, epochs=max_iter, verbose=0)\n",
        "\n",
        "    return model, scaler\n"
      ],
      "metadata": {
        "id": "Z-VZKT5_lVCO"
      },
      "execution_count": 13,
      "outputs": []
    },
    {
      "cell_type": "code",
      "source": [
        "\n",
        "# Define the reinforcement learning trading agent\n",
        "class TradingAgent:\n",
        "    def __init__(self, ann, scaler, trading_threshold):\n",
        "        self.ann = ann\n",
        "        self.scaler = scaler\n",
        "        self.trading_threshold = trading_threshold\n",
        "        self.current_position = 0\n",
        "        self.trades_executed = 0\n",
        "\n",
        "    def act(self, observation):\n",
        "        scaled_observation = self.scaler.transform(observation)\n",
        "        predicted_signal = self.ann.predict(scaled_observation)\n",
        "\n",
        "        if predicted_signal > self.trading_threshold and self.current_position <= 0:\n",
        "            action = 1  # Buy\n",
        "            self.current_position = 1\n",
        "            self.trades_executed += 1\n",
        "        elif predicted_signal < -self.trading_threshold and self.current_position >= 0:\n",
        "            action = -1  # Sell\n",
        "            self.current_position = -1\n",
        "            self.trades_executed += 1\n",
        "        else:\n",
        "            action = 0  # Hold\n",
        "\n",
        "        return action\n",
        "\n"
      ],
      "metadata": {
        "id": "S7oB3reVlXbq"
      },
      "execution_count": 14,
      "outputs": []
    },
    {
      "cell_type": "code",
      "source": [
        "import yfinance as yf\n",
        "\n",
        "# Set the ticker symbol for EUR/GBP\n",
        "ticker = \"EURGBP=X\"\n",
        "\n",
        "# Set the start and end date for the data\n",
        "start_date = \"2023-07-01\"\n",
        "end_date = \"2023-07-04\"\n",
        "\n",
        "# Set the interval to 5 minutes\n",
        "interval = \"5m\"\n",
        "\n",
        "# Fetch the data using yfinance\n",
        "data = yf.download(ticker, start=start_date, end=end_date, interval=interval)\n",
        "\n",
        "# Print the first few rows of the data\n",
        "# print(data.head())\n",
        "data.shape"
      ],
      "metadata": {
        "colab": {
          "base_uri": "https://localhost:8080/"
        },
        "id": "34ULVmNOlZhF",
        "outputId": "0b7244f3-3fe4-49b9-c679-9c41ebb89a91"
      },
      "execution_count": 15,
      "outputs": [
        {
          "output_type": "stream",
          "name": "stdout",
          "text": [
            "\r[*********************100%***********************]  1 of 1 completed\n"
          ]
        },
        {
          "output_type": "execute_result",
          "data": {
            "text/plain": [
              "(288, 6)"
            ]
          },
          "metadata": {},
          "execution_count": 15
        }
      ]
    },
    {
      "cell_type": "code",
      "source": [
        "# Load OHLC data (replace with your own data)\n",
        "# data = pd.read_csv('dope.csv')\n",
        "\n",
        "# Generate the trading signal based on a moving average\n",
        "window = 50\n",
        "data_with_signal = generate_trading_signal(data, window)\n",
        "\n",
        "data_with_signal.head()"
      ],
      "metadata": {
        "colab": {
          "base_uri": "https://localhost:8080/"
        },
        "id": "1QP_koLqlcMv",
        "outputId": "b9278fe6-dbf1-4339-e06a-2a9924419dc3"
      },
      "execution_count": 16,
      "outputs": [
        {
          "output_type": "execute_result",
          "data": {
            "text/plain": [
              "Datetime\n",
              "2023-07-03 00:00:00+01:00   -1\n",
              "2023-07-03 00:05:00+01:00   -1\n",
              "2023-07-03 00:10:00+01:00   -1\n",
              "2023-07-03 00:15:00+01:00   -1\n",
              "2023-07-03 00:20:00+01:00   -1\n",
              "Name: Signal, dtype: int64"
            ]
          },
          "metadata": {},
          "execution_count": 16
        }
      ]
    },
    {
      "cell_type": "code",
      "source": [
        "# Prepare the features (OHLC) and target (trading signal)\n",
        "X = data[['Open', 'High', 'Low', 'Close']]\n",
        "y = data_with_signal.dropna()\n",
        "\n",
        "# Split the data into training and testing sets\n",
        "X_train, X_test, y_train, y_test = train_test_split(X, y, test_size=0.2, shuffle=False)\n",
        "\n"
      ],
      "metadata": {
        "id": "3z_m-5BpleIy"
      },
      "execution_count": 17,
      "outputs": []
    },
    {
      "cell_type": "code",
      "source": [
        "# Train the ANN model with PSO optimization\n",
        "ann_model, scaler = train_ann_with_pso(X_train, y_train)\n",
        "\n"
      ],
      "metadata": {
        "id": "oB-haxeAlf7T"
      },
      "execution_count": null,
      "outputs": []
    },
    {
      "cell_type": "code",
      "source": [
        "# Define the trading agent\n",
        "trading_threshold = 0.5\n",
        "trading_agent = TradingAgent(ann_model, scaler, trading_threshold)\n",
        "\n"
      ],
      "metadata": {
        "id": "_nzyyOTWlpjH"
      },
      "execution_count": null,
      "outputs": []
    },
    {
      "cell_type": "code",
      "source": [
        "# Simulate trading using reinforcement learning\n",
        "trading_data = X_test  # Use test data for trading simulation\n",
        "trading_actions = []\n",
        "\n",
        "for i in range(len(trading_data)):\n",
        "    observation = trading_data.iloc[i:i+1]\n",
        "    action = trading_agent.act(observation)\n",
        "    trading_actions.append(action)\n",
        "\n",
        "# Evaluate trading performance\n",
        "trading_returns = np.where(np.array(trading_actions) == 1, data['Close'].diff()[len(data)-len(trading_data):], -data['Close'].diff()[len(data)-len(trading_data):])\n",
        "total_profit = trading_returns[trading_returns > 0].sum()\n",
        "total_trades_executed = trading_agent.trades_executed\n",
        "\n",
        "print(\"Total profit:\", total_profit)\n",
        "print(\"Total trades executed:\", total_trades_executed)\n"
      ],
      "metadata": {
        "id": "0Wwpm__NlyuT"
      },
      "execution_count": null,
      "outputs": []
    },
    {
      "cell_type": "code",
      "source": [
        "# Calculate Sharpe ratio, drawdown, and total profit\n",
        "trading_returns_cumulative = np.cumsum(trading_returns)\n",
        "trading_returns_cumulative_max = np.maximum.accumulate(trading_returns_cumulative)\n",
        "drawdown = np.min(trading_returns_cumulative - trading_returns_cumulative_max)\n",
        "total_profit = trading_returns_cumulative[-1]\n",
        "total_trades_executed = trading_agent.trades_executed\n",
        "\n",
        "# Calculate Sharpe ratio using annualized returns and standard deviation\n",
        "returns_annualized = trading_returns.mean() * 252  # Assuming 252 trading days in a year\n",
        "std_annualized = trading_returns.std() * np.sqrt(252)\n",
        "sharpe_ratio = returns_annualized / std_annualized\n",
        "\n",
        "print(\"Total profit:\", total_profit)\n",
        "print(\"Total trades executed:\", total_trades_executed)\n",
        "print(\"Sharpe ratio:\", sharpe_ratio)\n",
        "print(\"Drawdown:\", drawdown)\n",
        "\n"
      ],
      "metadata": {
        "id": "PMU5s_SKl1xn"
      },
      "execution_count": null,
      "outputs": []
    },
    {
      "cell_type": "code",
      "source": [
        "# Calculate dollar returns based on leverage\n",
        "leverage_ratio = 100\n",
        "dollar_returns = trading_returns * leverage_ratio\n",
        "\n",
        "# Calculate total profit in dollars\n",
        "total_profit = dollar_returns[dollar_returns > 0].sum()\n",
        "\n",
        "print(\"Total profit (in dollars):\", total_profit)\n"
      ],
      "metadata": {
        "id": "hZDBeFkel3sS"
      },
      "execution_count": null,
      "outputs": []
    },
    {
      "cell_type": "code",
      "source": [],
      "metadata": {
        "id": "yYMowENnl5Wj"
      },
      "execution_count": null,
      "outputs": []
    }
  ]
}